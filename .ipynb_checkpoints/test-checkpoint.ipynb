{
 "cells": [
  {
   "cell_type": "code",
   "execution_count": null,
   "id": "5bb2ec35",
   "metadata": {
    "scrolled": false
   },
   "outputs": [
    {
     "name": "stderr",
     "output_type": "stream",
     "text": [
      "Episode 9999: 100%|████████████████████| 10000/10000 [1:06:37<00:00,  2.50it/s, episode_reward=500, running_reward=393]\n",
      "Episode 9999: 100%|████████████████████| 10000/10000 [1:11:04<00:00,  2.35it/s, episode_reward=500, running_reward=418]\n",
      "Episode 9999: 100%|████████████████████| 10000/10000 [1:10:02<00:00,  2.38it/s, episode_reward=500, running_reward=412]\n",
      "Episode 9999: 100%|████████████████████| 10000/10000 [1:12:51<00:00,  2.29it/s, episode_reward=500, running_reward=418]\n",
      "Episode 9999: 100%|████████████████████| 10000/10000 [1:17:56<00:00,  2.14it/s, episode_reward=500, running_reward=425]\n"
     ]
    },
    {
     "name": "stdout",
     "output_type": "stream",
     "text": [
      "Running one setting takes 358.5271384835243 minutes\n"
     ]
    },
    {
     "name": "stderr",
     "output_type": "stream",
     "text": [
      "Episode 9999: 100%|███████████████████████| 10000/10000 [05:39<00:00, 29.47it/s, episode_reward=8, running_reward=13.3]\n",
      "Episode 9999: 100%|████████████████████████| 10000/10000 [05:18<00:00, 31.38it/s, episode_reward=10, running_reward=10]\n",
      "Episode 9999: 100%|███████████████████████| 10000/10000 [05:19<00:00, 31.33it/s, episode_reward=9, running_reward=10.5]\n",
      "Episode 9999: 100%|███████████████████████| 10000/10000 [05:21<00:00, 31.13it/s, episode_reward=8, running_reward=10.3]\n",
      "Episode 9999: 100%|██████████████████████| 10000/10000 [05:36<00:00, 29.73it/s, episode_reward=10, running_reward=11.5]\n",
      "  0%|                                                                                        | 0/10000 [00:00<?, ?it/s]"
     ]
    },
    {
     "name": "stdout",
     "output_type": "stream",
     "text": [
      "Running one setting takes 27.25035835901896 minutes\n"
     ]
    },
    {
     "name": "stderr",
     "output_type": "stream",
     "text": [
      "Episode 9999: 100%|████████████████████████| 10000/10000 [05:28<00:00, 30.42it/s, episode_reward=8, running_reward=9.4]\n",
      "Episode 9999: 100%|███████████████████████| 10000/10000 [05:29<00:00, 30.34it/s, episode_reward=9, running_reward=9.58]\n",
      "Episode 9999: 100%|███████████████████████| 10000/10000 [05:50<00:00, 28.52it/s, episode_reward=9, running_reward=11.4]\n",
      "Episode 9999: 100%|███████████████████████| 10000/10000 [05:59<00:00, 27.81it/s, episode_reward=9, running_reward=13.4]\n",
      "Episode 9999: 100%|███████████████████████| 10000/10000 [05:26<00:00, 30.64it/s, episode_reward=9, running_reward=9.41]\n",
      "  0%|                                                                                        | 0/10000 [00:00<?, ?it/s]"
     ]
    },
    {
     "name": "stdout",
     "output_type": "stream",
     "text": [
      "Running one setting takes 28.252520815531412 minutes\n"
     ]
    },
    {
     "name": "stderr",
     "output_type": "stream",
     "text": [
      "Episode 9999: 100%|██████████████████████| 10000/10000 [28:27<00:00,  5.85it/s, episode_reward=500, running_reward=149]\n",
      "Episode 9999: 100%|██████████████████████| 10000/10000 [21:33<00:00,  7.73it/s, episode_reward=327, running_reward=118]\n",
      "Episode 9999: 100%|█████████████████████| 10000/10000 [15:54<00:00, 10.48it/s, episode_reward=189, running_reward=89.7]\n",
      "Episode 9999: 100%|██████████████████████| 10000/10000 [23:27<00:00,  7.11it/s, episode_reward=115, running_reward=128]\n",
      "Episode 9999: 100%|██████████████████████| 10000/10000 [28:28<00:00,  5.85it/s, episode_reward=446, running_reward=154]\n"
     ]
    },
    {
     "name": "stdout",
     "output_type": "stream",
     "text": [
      "Running one setting takes 117.85247792402903 minutes\n"
     ]
    },
    {
     "name": "stderr",
     "output_type": "stream",
     "text": [
      "Episode 9999: 100%|████████████████████| 10000/10000 [1:29:05<00:00,  1.87it/s, episode_reward=500, running_reward=398]\n",
      "Episode 9999: 100%|████████████████████| 10000/10000 [1:28:20<00:00,  1.89it/s, episode_reward=500, running_reward=394]\n",
      "Episode 9999: 100%|████████████████████| 10000/10000 [1:29:19<00:00,  1.87it/s, episode_reward=500, running_reward=395]\n",
      "Episode 9999: 100%|████████████████████| 10000/10000 [1:30:35<00:00,  1.84it/s, episode_reward=500, running_reward=408]\n",
      "Episode 5519:  55%|████████████▋          | 5520/10000 [41:49<49:15,  1.52it/s, episode_reward=500, running_reward=363]"
     ]
    }
   ],
   "source": [
    "import numpy as np\n",
    "import time\n",
    "from Helper import LearningCurvePlot, smooth\n",
    "from baseline_subtraction import *\n",
    "\n",
    "def average_over_repetitions(smoothing_window, plot, n_repetitions, n_episodes, learning_rate,\n",
    "                             gamma, batch_update_size):\n",
    "\n",
    "    reward_results = np.empty([n_repetitions,n_episodes]) # Result array\n",
    "    now = time.time()\n",
    "    \n",
    "    for rep in range(n_repetitions): # Loop over repetitions\n",
    "        rewards = cartpole(learning_rate, batch_update_size, gamma, n_episodes)\n",
    "        reward_results[rep] = rewards\n",
    "        \n",
    "    print('Running one setting takes {} minutes'.format((time.time()-now)/60))    \n",
    "    learning_curve = np.mean(reward_results,axis=0) # average over repetitions\n",
    "    learning_curve = smooth(learning_curve,smoothing_window) # additional smoothing\n",
    "    return learning_curve\n",
    "\n",
    "def experiment():\n",
    "    ####### Settings\n",
    "    # Experiment    \n",
    "    n_repetitions = 5\n",
    "    smoothing_window = 501\n",
    "    n_episodes = 10000\n",
    "    gamma = 0.99\n",
    "    \n",
    "    # Plotting parameters\n",
    "    plot = True\n",
    "    \n",
    "    # Nice labels for plotting\n",
    "    policy_labels = {'basesub': 'baseline subtraction',\n",
    "                  'boot': 'bootstrap', 'b+b': 'bootstrap with baseline subtraction'}       #Something here might need to be changed\n",
    "\n",
    "    \n",
    "    ####### Experiments\n",
    "    \n",
    "    good_average_reward = 250 # We set this as a benchmark of good average reward reached by the algorithm\n",
    "    \n",
    "    policy = 'basesub'\n",
    "    Plot1 = LearningCurvePlot(title = 'Cartpole experiment solved with ' + policy_labels[policy])\n",
    "    Plot2 = LearningCurvePlot(title = 'Cartpole experiment solved with ' + policy_labels[policy])\n",
    "    lr = [0.001, 0.01, 0.1, 0.0001]\n",
    "    batch_sizes = [1,8,16,24]\n",
    "    batch_update_size_1 = 1\n",
    "    for learning_rate in lr:\n",
    "        learning_curve = average_over_repetitions(smoothing_window, plot, n_repetitions, n_episodes, learning_rate,\n",
    "                             gamma, batch_update_size_1)\n",
    "        Plot1.add_curve(learning_curve,label = 'learning rate: ' + str(learning_rate))\n",
    "\n",
    "    Plot1.add_hline(good_average_reward, label = 'Threshold for good reward')\n",
    "    Plot1.save('cartpole_test_' + policy_labels[policy] + '_learning_rate' + '.png')\n",
    "    \n",
    "    for batch_update_size in batch_sizes:\n",
    "        learning_rate_1 = 0.001\n",
    "        learning_curve = average_over_repetitions(smoothing_window, plot, n_repetitions, n_episodes, learning_rate_1,\n",
    "                             gamma, batch_update_size)\n",
    "        Plot2.add_curve(learning_curve, label = 'batch update: ' + str(batch_update_size))\n",
    "        \n",
    "    Plot2.add_hline(good_average_reward, label = 'Threshold for good reward')\n",
    "    Plot2.save('cartpole_test_' + policy_labels[policy] + '_batch_update' + '.png')\n",
    "\n",
    "if __name__ == '__main__':\n",
    "    experiment()\n",
    "\n",
    "    \n",
    "# To run with actor_critic: change import + add N as input to average_over_repetitions + ad N as hyperparameter + change \n",
    "# number of batch sizes and learning rates"
   ]
  },
  {
   "cell_type": "code",
   "execution_count": null,
   "id": "08c04181",
   "metadata": {},
   "outputs": [],
   "source": []
  }
 ],
 "metadata": {
  "kernelspec": {
   "display_name": "Python 3",
   "language": "python",
   "name": "python3"
  },
  "language_info": {
   "codemirror_mode": {
    "name": "ipython",
    "version": 3
   },
   "file_extension": ".py",
   "mimetype": "text/x-python",
   "name": "python",
   "nbconvert_exporter": "python",
   "pygments_lexer": "ipython3",
   "version": "3.8.8"
  }
 },
 "nbformat": 4,
 "nbformat_minor": 5
}
